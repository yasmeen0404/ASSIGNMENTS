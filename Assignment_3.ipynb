{
  "nbformat": 4,
  "nbformat_minor": 0,
  "metadata": {
    "colab": {
      "provenance": []
    },
    "kernelspec": {
      "name": "python3",
      "display_name": "Python 3"
    },
    "language_info": {
      "name": "python"
    }
  },
  "cells": [
    {
      "cell_type": "markdown",
      "source": [
        "Python programming Assignment\n"
      ],
      "metadata": {
        "id": "xpJe4H9yc4qe"
      }
    },
    {
      "cell_type": "code",
      "execution_count": 2,
      "metadata": {
        "id": "MBmmR-UxRyAT"
      },
      "outputs": [],
      "source": [
        "import pandas as pd\n",
        "import numpy as np"
      ]
    },
    {
      "cell_type": "markdown",
      "source": [
        "Prime numbers"
      ],
      "metadata": {
        "id": "endarW3adDSh"
      }
    },
    {
      "cell_type": "code",
      "source": [
        "# Write a Python program that checks whether a given number is prime or not"
      ],
      "metadata": {
        "id": "V2IZLXI9Z6We"
      },
      "execution_count": 13,
      "outputs": []
    },
    {
      "cell_type": "code",
      "source": [
        "num = 11\n",
        "# Negative numbers, 0 and 1 are not primes\n",
        "if num > 1:\n",
        "\n",
        "    # Iterate from 2 to n // 2\n",
        "    for i in range(2, (num//2)+1):\n",
        "\n",
        "        # If num is divisible by any number between\n",
        "        # 2 and n / 2, it is not prime\n",
        "        if (num % i) == 0:\n",
        "            print(num, \"is not a prime number\")\n",
        "            break\n",
        "    else:\n",
        "        print(num, \"is a prime number\")\n",
        "else:\n",
        "    print(num, \"is not a prime number\")"
      ],
      "metadata": {
        "colab": {
          "base_uri": "https://localhost:8080/"
        },
        "id": "ktG9XQwUV2sP",
        "outputId": "4a46e516-e572-460b-e65a-46dfd706a9a6"
      },
      "execution_count": 7,
      "outputs": [
        {
          "output_type": "stream",
          "name": "stdout",
          "text": [
            "11 is a prime number\n"
          ]
        }
      ]
    },
    {
      "cell_type": "code",
      "source": [],
      "metadata": {
        "id": "u7nlGzwEc0Mr"
      },
      "execution_count": null,
      "outputs": []
    },
    {
      "cell_type": "markdown",
      "source": [
        "Random numbers"
      ],
      "metadata": {
        "id": "XNEodBEDdKgJ"
      }
    },
    {
      "cell_type": "code",
      "source": [
        "# product of Random numbers\n",
        "\n",
        "import random\n",
        "\n",
        "# Generate two random numbers\n",
        "num1 = random.randint(1, 10)  # You can adjust the range as needed\n",
        "num2 = random.randint(1, 10)\n",
        "\n",
        "# Calculate the correct product\n",
        "correct_product = num1 * num2\n",
        "\n",
        "# Ask the user for their answer\n",
        "user_answer = int(input(f\"What is the product of {num1} and {num2}? \"))\n",
        "\n",
        "# Check the user's answer\n",
        "if user_answer == correct_product:\n",
        "    print(\"Correct! Well done.\")\n",
        "else:\n",
        "    print(f\"Incorrect. The correct answer is {correct_product}.\")"
      ],
      "metadata": {
        "colab": {
          "base_uri": "https://localhost:8080/"
        },
        "id": "0I1s8VHCXEdm",
        "outputId": "624c341a-1973-48ed-e4e8-89dad5840696"
      },
      "execution_count": 9,
      "outputs": [
        {
          "output_type": "stream",
          "name": "stdout",
          "text": [
            "What is the product of 7 and 7? 49\n",
            "Correct! Well done.\n"
          ]
        }
      ]
    },
    {
      "cell_type": "code",
      "source": [],
      "metadata": {
        "id": "laHGlK_WcyK9"
      },
      "execution_count": null,
      "outputs": []
    },
    {
      "cell_type": "markdown",
      "source": [
        " Even/Odd numbers\n"
      ],
      "metadata": {
        "id": "RTog-HJtdTdy"
      }
    },
    {
      "cell_type": "code",
      "source": [
        " # Square of Even/Odd numbers\n",
        "\n",
        "def square_number(num):\n",
        "  \"\"\"Squares a number and identifies if it's even or odd.\"\"\"\n",
        "\n",
        "  square = num ** 2\n",
        "  if num % 2 == 0:\n",
        "    print(f\"The square of {num} (an even number) is {square}\")\n",
        "  else:\n",
        "    print(f\"The square of {num} (an odd number) is {square}\")\n",
        "\n",
        "# Get input from the user\n",
        "number = int(input(\"Enter a number: \"))\n",
        "\n",
        "# Call the function to square the number and identify its type\n",
        "square_number(number)"
      ],
      "metadata": {
        "colab": {
          "base_uri": "https://localhost:8080/"
        },
        "id": "OuTHAw7vYilM",
        "outputId": "07bbda7e-ef01-48f1-fc4a-b1adc31c0e32"
      },
      "execution_count": 12,
      "outputs": [
        {
          "output_type": "stream",
          "name": "stdout",
          "text": [
            "Enter a number: 5\n",
            "The square of 5 (an odd number) is 25\n"
          ]
        }
      ]
    },
    {
      "cell_type": "code",
      "source": [],
      "metadata": {
        "id": "3XSRItYZcsyM"
      },
      "execution_count": null,
      "outputs": []
    },
    {
      "cell_type": "markdown",
      "source": [
        "Word Count\n"
      ],
      "metadata": {
        "id": "D5e51s2pdfqk"
      }
    },
    {
      "cell_type": "code",
      "source": [
        "# Word Count\n",
        "\n",
        "def count_words(text):\n",
        "    \"\"\"Counts the number of words in a given text.\n",
        "\n",
        "    Args:\n",
        "        text: The input text string.\n",
        "\n",
        "    Returns:\n",
        "        The number of words in the text.\n",
        "    \"\"\"\n",
        "    words = text.split()\n",
        "    return len(words)\n",
        "\n",
        "input_text = \"This is a python program.\"\n",
        "word_count = count_words(input_text)\n",
        "print(f\"The number of words in the text is: {word_count}\")"
      ],
      "metadata": {
        "colab": {
          "base_uri": "https://localhost:8080/"
        },
        "id": "DXhlzudoa0mA",
        "outputId": "9c6d2404-723c-4f2b-9cbf-de984133327d"
      },
      "execution_count": 16,
      "outputs": [
        {
          "output_type": "stream",
          "name": "stdout",
          "text": [
            "The number of words in the text is: 5\n"
          ]
        }
      ]
    },
    {
      "cell_type": "code",
      "source": [],
      "metadata": {
        "id": "ANXQX3IIcrXQ"
      },
      "execution_count": null,
      "outputs": []
    },
    {
      "cell_type": "markdown",
      "source": [
        "Palindrome"
      ],
      "metadata": {
        "id": "R9dq2GK6eKe9"
      }
    },
    {
      "cell_type": "code",
      "source": [
        "# Palindrome\n",
        "\n",
        "def is_palindrome(text):\n",
        "    \"\"\"\n",
        "    Checks if a given string is a palindrome.\n",
        "\n",
        "    Args:\n",
        "        text: The input string.\n",
        "\n",
        "    Returns:\n",
        "        True if the string is a palindrome, False otherwise.\n",
        "    \"\"\"\n",
        "    processed_text = re.sub(r'[^a-zA-Z0-9]', '', text).lower()\n",
        "    return processed_text == processed_text[::-1]\n",
        "\n",
        "    # Example usage:\n",
        "input_text = \"Hyderabad\"\n",
        "if is_palindrome(input_text):\n",
        "    print(f\"'{input_text}' is a palindrome.\")\n",
        "else:\n",
        "    print(f\"'{input_text}' is not a palindrome.\")"
      ],
      "metadata": {
        "colab": {
          "base_uri": "https://localhost:8080/"
        },
        "id": "aRZ9MX8ScLqX",
        "outputId": "a803afd0-99f7-407b-ddbb-9ca13ab08325"
      },
      "execution_count": 21,
      "outputs": [
        {
          "output_type": "stream",
          "name": "stdout",
          "text": [
            "'Hyderabad' is not a palindrome.\n"
          ]
        }
      ]
    },
    {
      "cell_type": "code",
      "source": [],
      "metadata": {
        "id": "TkGofdk2cLuO"
      },
      "execution_count": null,
      "outputs": []
    }
  ]
}