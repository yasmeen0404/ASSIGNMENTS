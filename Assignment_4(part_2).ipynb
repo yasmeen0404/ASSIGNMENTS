{
  "nbformat": 4,
  "nbformat_minor": 0,
  "metadata": {
    "colab": {
      "provenance": []
    },
    "kernelspec": {
      "name": "python3",
      "display_name": "Python 3"
    },
    "language_info": {
      "name": "python"
    }
  },
  "cells": [
    {
      "cell_type": "markdown",
      "source": [
        "Hypothesis Testing"
      ],
      "metadata": {
        "id": "GAq5jkELlv0u"
      }
    },
    {
      "cell_type": "code",
      "execution_count": null,
      "metadata": {
        "id": "ll6dmH9_bdbW"
      },
      "outputs": [],
      "source": [
        "import pandas as pd\n",
        "import numpy as np\n",
        "import scipy.stats as stats\n"
      ]
    },
    {
      "cell_type": "code",
      "source": [
        "data ={1: \"The theoretical weekly operating cost model: W = $1,000 + $5X\",\n",
        "       2: \"Sample of 25 restaurants with a mean weekly cost of Rs. 3,050\",\n",
        "       3: \"Number of units produced in a week (X) follows a normal distribution with a mean (μ) of 600 units and a standard deviation (σ) of 25 units\"}"
      ],
      "metadata": {
        "id": "Hzfn9EDSb0MS"
      },
      "execution_count": null,
      "outputs": []
    },
    {
      "cell_type": "markdown",
      "source": [
        "1. State the Hypotheses statement:"
      ],
      "metadata": {
        "id": "BjHfhdStlxTt"
      }
    },
    {
      "cell_type": "code",
      "source": [
        "# State the Hypotheses statement\n",
        "print(\"\\nHypotheses:\")\n",
        "\n",
        "print(\"Null Hypothesis (H0): There is no association between the type of smart home device and customer satisfaction levels.\")\n",
        "print(\"In other words, there's no significant difference between the observed average weekly cost and the cost predicted by the model, given the average number of units produced. \")\n",
        "\n",
        "print(\"Alternative Hypothesis (H1): There is an association between the type of smart home device and customer satisfaction levels.\")\n",
        "print(\"There is a significant difference between the observed average weekly cost and the cost predicted by the model, given the average number of units produced.\")"
      ],
      "metadata": {
        "colab": {
          "base_uri": "https://localhost:8080/"
        },
        "id": "-bcyjdyRcoXd",
        "outputId": "8a0a9bf5-2567-448d-b47e-67b8b3ecda5e"
      },
      "execution_count": null,
      "outputs": [
        {
          "output_type": "stream",
          "name": "stdout",
          "text": [
            "\n",
            "Hypotheses:\n",
            "Null Hypothesis (H0): There is no association between the type of smart home device and customer satisfaction levels.\n",
            "In other words, there's no significant difference between the observed average weekly cost and the cost predicted by the model, given the average number of units produced. \n",
            "Alternative Hypothesis (H1): There is an association between the type of smart home device and customer satisfaction levels.\n",
            "There is a significant difference between the observed average weekly cost and the cost predicted by the model, given the average number of units produced.\n"
          ]
        }
      ]
    },
    {
      "cell_type": "markdown",
      "source": [
        "2. Calculate the Test Statistic:"
      ],
      "metadata": {
        "id": "tWFj8zyblyjH"
      }
    },
    {
      "cell_type": "markdown",
      "source": [
        "ˉxˉ = sample mean weekly cost (Rs. 3,050)"
      ],
      "metadata": {
        "id": "w2qiXAoOmM75"
      }
    },
    {
      "cell_type": "code",
      "source": [
        "# Given data\n",
        "x_bar = 3050  # Sample mean weekly cost\n",
        "n = 25  # Sample size\n",
        "mu_x = 600  # Population mean of units produced\n",
        "sigma_x = 25  # Population standard deviation of units produced\n",
        "\n",
        "# Calculate the expected weekly cost based on the model\n",
        "expected_cost = 1000 + 5 * mu_x\n",
        "\n",
        "\n",
        "# Calculate the standard error of the mean\n",
        "se = sigma_x * np.sqrt(5) / np.sqrt(n)\n",
        "\n",
        "# Calculate the test statistic (z-score)\n",
        "z = (x_bar - expected_cost) / se\n",
        "print(f\"Test statistic (z-score): {z}\")\n",
        "\n",
        "# Calculate the p-value (two-tailed test)\n",
        "p = 2 * (1 - stats.norm.cdf(abs(z)))\n",
        "print(f\"P-value: {p}\")\n",
        "\n",
        "\n"
      ],
      "metadata": {
        "colab": {
          "base_uri": "https://localhost:8080/"
        },
        "id": "C8IBY9aJevoT",
        "outputId": "4fc0cdc6-c810-4298-9bdf-6ee4974e1740"
      },
      "execution_count": null,
      "outputs": [
        {
          "output_type": "stream",
          "name": "stdout",
          "text": [
            "Test statistic (z-score): -84.970583144992\n",
            "P-value: 0.0\n"
          ]
        }
      ]
    },
    {
      "cell_type": "markdown",
      "source": [
        "μ = theoretical mean weekly cost according to the cost model (W = $1,000 + $5X for X = 600 units)"
      ],
      "metadata": {
        "id": "0t3nEgWfl0Oq"
      }
    },
    {
      "cell_type": "code",
      "source": [
        "import pandas as pd\n",
        "import numpy as np\n",
        "import scipy.stats as stats\n",
        "\n",
        "# Given data\n",
        "x_bar = 3050  # Sample mean weekly cost\n",
        "n = 25  # Sample size\n",
        "mu_x = 600  # Population mean of units produced\n",
        "sigma_x = 25  # Population standard deviation of units produced\n",
        "\n",
        "# Calculate the expected weekly cost based on the model\n",
        "mu = 1000 + 5 * mu_x # Theoretical mean weekly cost\n",
        "\n",
        "print(f\"Theoretical mean weekly cost (mu): ${mu}\")"
      ],
      "metadata": {
        "colab": {
          "base_uri": "https://localhost:8080/"
        },
        "id": "prFKALQFiGN4",
        "outputId": "02ccdc83-90fc-4860-ad3d-8ac0746e9dd2"
      },
      "execution_count": null,
      "outputs": [
        {
          "output_type": "stream",
          "name": "stdout",
          "text": [
            "Theoretical mean weekly cost (mu): $4000\n"
          ]
        }
      ]
    },
    {
      "cell_type": "markdown",
      "source": [
        "σ = 5*25 units"
      ],
      "metadata": {
        "id": "IFNPYwjal17H"
      }
    },
    {
      "cell_type": "code",
      "source": [
        "# Given data\n",
        "x_bar = 3050  # Sample mean weekly cost\n",
        "n = 25  # Sample size\n",
        "mu_x = 600  # Population mean of units produced\n",
        "sigma_x = 25  # Population standard deviation of units produced\n",
        "\n",
        "# Calculate the expected weekly cost based on the model\n",
        "expected_cost = 1000 + 5 * mu_x\n",
        "\n",
        "# Calculate the standard error of the mean\n",
        "# Correct calculation of standard error:  σ / sqrt(n)  where σ = 5 * σ_x\n",
        "se = (5 * sigma_x) / np.sqrt(n)\n",
        "\n",
        "\n",
        "# Calculate the test statistic (z-score)\n",
        "z = (x_bar - expected_cost) / se\n",
        "print(f\"Test statistic (z-score): {z}\")\n",
        "\n",
        "# Calculate the p-value (two-tailed test)\n",
        "p = 2 * (1 - stats.norm.cdf(abs(z)))\n",
        "print(f\"P-value: {p}\")\n",
        "\n",
        "# Given data\n",
        "mu = 1000 + 5 * mu_x  # Theoretical mean weekly cost\n",
        "print(f\"Theoretical mean weekly cost (mu): ${mu}\")"
      ],
      "metadata": {
        "colab": {
          "base_uri": "https://localhost:8080/"
        },
        "id": "PqaTAl_AiH-l",
        "outputId": "65433b6b-4070-4569-cfed-f176aefe844e"
      },
      "execution_count": null,
      "outputs": [
        {
          "output_type": "stream",
          "name": "stdout",
          "text": [
            "Test statistic (z-score): -38.0\n",
            "P-value: 0.0\n",
            "Theoretical mean weekly cost (mu): $4000\n"
          ]
        }
      ]
    },
    {
      "cell_type": "markdown",
      "source": [
        "n = sample size (25 restaurants)"
      ],
      "metadata": {
        "id": "-yUu8zo9mGxN"
      }
    },
    {
      "cell_type": "code",
      "source": [
        "# n = sample size (25 restaurants)\n",
        "\n",
        "import numpy as np\n",
        "from scipy.stats import norm\n",
        "\n",
        "# ... (your existing code)\n",
        "\n",
        "# Given data (already in your code)\n",
        "sample_size = 25  # Number of restaurants in the sample\n",
        "print(f\"\\nSample Size: {sample_size}\")"
      ],
      "metadata": {
        "colab": {
          "base_uri": "https://localhost:8080/"
        },
        "id": "jd2WHuHIj40d",
        "outputId": "5865f2b0-e989-4b9c-df08-f9935f1131d2"
      },
      "execution_count": null,
      "outputs": [
        {
          "output_type": "stream",
          "name": "stdout",
          "text": [
            "\n",
            "Sample Size: 25\n"
          ]
        }
      ]
    },
    {
      "cell_type": "markdown",
      "source": [
        "3. Determine the Critical Value:"
      ],
      "metadata": {
        "id": "ufvQBwc5mCRN"
      }
    },
    {
      "cell_type": "code",
      "source": [
        "# Given alpha level\n",
        "alpha = 0.05\n",
        "\n",
        "# Calculate the critical value for a two-tailed test\n",
        "critical_value = norm.ppf(1 - alpha / 2)\n",
        "\n",
        "print(f\"Critical value (Z): {critical_value}\")"
      ],
      "metadata": {
        "colab": {
          "base_uri": "https://localhost:8080/"
        },
        "id": "t6hTl6O4kdM9",
        "outputId": "6240ff01-b147-4274-c839-fe4f573d59e9"
      },
      "execution_count": null,
      "outputs": [
        {
          "output_type": "stream",
          "name": "stdout",
          "text": [
            "Critical value (Z): 1.959963984540054\n"
          ]
        }
      ]
    },
    {
      "cell_type": "markdown",
      "source": [
        "4. Make a Decision:"
      ],
      "metadata": {
        "id": "jSQwRv9Gl-r3"
      }
    },
    {
      "cell_type": "code",
      "source": [
        "# Given alpha level\n",
        "alpha = 0.05\n",
        "\n",
        "# Calculate the critical value for a two-tailed test\n",
        "critical_value = norm.ppf(1 - alpha / 2)\n",
        "\n",
        "print(f\"Critical value (Z): {critical_value}\")\n",
        "\n",
        "# Compare the test statistic with the critical value\n",
        "if abs(z) > critical_value:\n",
        "    print(\"Decision: Reject the null hypothesis.\")\n",
        "    print(\"Conclusion: There is sufficient evidence to suggest a significant difference between the observed average weekly cost and the cost predicted by the model.\")\n",
        "else:\n",
        "    print(\"Decision: Fail to reject the null hypothesis.\")\n",
        "    print(\"Conclusion: There is not sufficient evidence to suggest a significant difference between the observed average weekly cost and the cost predicted by the model.\")"
      ],
      "metadata": {
        "colab": {
          "base_uri": "https://localhost:8080/"
        },
        "id": "EJPC42wok4NB",
        "outputId": "4b643328-eda9-47e6-f134-fc93748681d8"
      },
      "execution_count": null,
      "outputs": [
        {
          "output_type": "stream",
          "name": "stdout",
          "text": [
            "Critical value (Z): 1.959963984540054\n",
            "Decision: Reject the null hypothesis.\n",
            "Conclusion: There is sufficient evidence to suggest a significant difference between the observed average weekly cost and the cost predicted by the model.\n"
          ]
        }
      ]
    },
    {
      "cell_type": "code",
      "source": [],
      "metadata": {
        "id": "WkOoGE0Rk4T-"
      },
      "execution_count": null,
      "outputs": []
    }
  ]
}