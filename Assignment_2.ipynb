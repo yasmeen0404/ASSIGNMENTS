{
  "nbformat": 4,
  "nbformat_minor": 0,
  "metadata": {
    "colab": {
      "provenance": []
    },
    "kernelspec": {
      "name": "python3",
      "display_name": "Python 3"
    },
    "language_info": {
      "name": "python"
    }
  },
  "cells": [
    {
      "cell_type": "markdown",
      "source": [
        "Estimation And Confidence Intervals\n"
      ],
      "metadata": {
        "id": "8hKUMHePQA8D"
      }
    },
    {
      "cell_type": "code",
      "execution_count": 1,
      "metadata": {
        "id": "gIib1IWwHdPn"
      },
      "outputs": [],
      "source": [
        "import pandas as pd\n",
        "import numpy as np\n"
      ]
    },
    {
      "cell_type": "code",
      "source": [
        "data =[1.13, 1.55, 1.43, 0.92, 1.25, 1.36, 1.32, 0.85, 1.07, 1.48, 1.20, 1.33, 1.18, 1.22, 1.29]"
      ],
      "metadata": {
        "id": "BiypvnBYMKmc"
      },
      "execution_count": 2,
      "outputs": []
    },
    {
      "cell_type": "code",
      "source": [
        "# Build 99% Confidence Interval Using Sample Standard Deviation"
      ],
      "metadata": {
        "id": "xQDq2rISOC34"
      },
      "execution_count": null,
      "outputs": []
    },
    {
      "cell_type": "code",
      "source": [
        "import pandas as pd\n",
        "import numpy as np\n",
        "from scipy import stats"
      ],
      "metadata": {
        "id": "1_IsvHXjM5UM"
      },
      "execution_count": 4,
      "outputs": []
    },
    {
      "cell_type": "code",
      "source": [
        "data =[1.13, 1.55, 1.43, 0.92, 1.25, 1.36, 1.32, 0.85, 1.07, 1.48, 1.20, 1.33, 1.18, 1.22, 1.29]"
      ],
      "metadata": {
        "id": "5MOsyZVeM6If"
      },
      "execution_count": 5,
      "outputs": []
    },
    {
      "cell_type": "code",
      "source": [
        "# Calculate the sample mean\n",
        "sample_mean = np.mean(data)\n",
        "\n",
        "# Calculate the sample standard deviation\n",
        "sample_std = np.std(data, ddof=1)  # Use ddof=1 for sample standard deviation\n",
        "\n",
        "# Calculate the sample size\n",
        "n = len(data)\n",
        "\n",
        "# Determine the degrees of freedom\n",
        "df = n - 1"
      ],
      "metadata": {
        "id": "otk9yg1_M6U2"
      },
      "execution_count": 6,
      "outputs": []
    },
    {
      "cell_type": "code",
      "source": [
        "\n",
        "# Find the critical t-value for a 99% confidence interval (two-tailed)\n",
        "alpha = 0.01  # Significance level\n",
        "t_critical = stats.t.ppf(1 - alpha / 2, df)\n",
        "\n",
        "# Calculate the margin of error\n",
        "margin_of_error = t_critical * (sample_std / np.sqrt(n))"
      ],
      "metadata": {
        "id": "agzanBl-M6is"
      },
      "execution_count": 7,
      "outputs": []
    },
    {
      "cell_type": "code",
      "source": [
        "# Construct the confidence interval\n",
        "confidence_interval = (sample_mean - margin_of_error, sample_mean + margin_of_error)\n",
        "\n",
        "print(f\"Sample Mean: {sample_mean}\")\n",
        "print(f\"Sample Standard Deviation: {sample_std}\")\n",
        "print(f\"Sample Size: {n}\")\n",
        "print(f\"Degrees of Freedom: {df}\")\n",
        "print(f\"Critical t-value: {t_critical}\")\n",
        "print(f\"Margin of Error: {margin_of_error}\")\n",
        "print(f\"99% Confidence Interval: {confidence_interval}\")"
      ],
      "metadata": {
        "colab": {
          "base_uri": "https://localhost:8080/"
        },
        "id": "TVvaYm9uM6wR",
        "outputId": "983ffa02-066f-44cf-9e4e-138f56234a02"
      },
      "execution_count": 8,
      "outputs": [
        {
          "output_type": "stream",
          "name": "stdout",
          "text": [
            "Sample Mean: 1.2386666666666666\n",
            "Sample Standard Deviation: 0.19316412956959936\n",
            "Sample Size: 15\n",
            "Degrees of Freedom: 14\n",
            "Critical t-value: 2.976842734370834\n",
            "Margin of Error: 0.14846932822817596\n",
            "99% Confidence Interval: (1.0901973384384906, 1.3871359948948425)\n"
          ]
        }
      ]
    },
    {
      "cell_type": "code",
      "source": [],
      "metadata": {
        "id": "47ohj9-YP1qB"
      },
      "execution_count": null,
      "outputs": []
    },
    {
      "cell_type": "code",
      "source": [
        "# Build 99% Confidence Interval Using Known Population Standard Deviation"
      ],
      "metadata": {
        "id": "tn0Hhvi2OT3z"
      },
      "execution_count": 10,
      "outputs": []
    },
    {
      "cell_type": "code",
      "source": [
        "import numpy as np\n",
        "from scipy import stats\n"
      ],
      "metadata": {
        "id": "V5ccazJnOv3Y"
      },
      "execution_count": 11,
      "outputs": []
    },
    {
      "cell_type": "code",
      "source": [
        "data =[1.13, 1.55, 1.43, 0.92, 1.25, 1.36, 1.32, 0.85, 1.07, 1.48, 1.20, 1.33, 1.18, 1.22, 1.29]"
      ],
      "metadata": {
        "id": "VrKQYqIsO5s1"
      },
      "execution_count": 12,
      "outputs": []
    },
    {
      "cell_type": "code",
      "source": [
        "population_std = 0.2\n",
        "sample_mean = np.mean(data)\n",
        "n = len(data)"
      ],
      "metadata": {
        "id": "bqkZBKgpO57Z"
      },
      "execution_count": 13,
      "outputs": []
    },
    {
      "cell_type": "code",
      "source": [
        "# For a 99% confidence interval, alpha = 0.01\n",
        "alpha = 0.01\n",
        "z_critical = stats.norm.ppf(1 - alpha / 2)\n",
        "\n",
        "margin_of_error = z_critical * (population_std / np.sqrt(n))\n",
        "confidence_interval = (sample_mean - margin_of_error, sample_mean + margin_of_error)\n",
        "\n",
        "print(f\"99% Confidence Interval (known population standard deviation): {confidence_interval}\")"
      ],
      "metadata": {
        "colab": {
          "base_uri": "https://localhost:8080/"
        },
        "id": "2nFTWhvhOT6o",
        "outputId": "ec285a20-0059-42c2-e488-efe8af2f4393"
      },
      "execution_count": 14,
      "outputs": [
        {
          "output_type": "stream",
          "name": "stdout",
          "text": [
            "99% Confidence Interval (known population standard deviation): (1.1056514133957607, 1.3716819199375725)\n"
          ]
        }
      ]
    },
    {
      "cell_type": "code",
      "source": [],
      "metadata": {
        "id": "GNdDjEYRPgPQ"
      },
      "execution_count": null,
      "outputs": []
    }
  ]
}